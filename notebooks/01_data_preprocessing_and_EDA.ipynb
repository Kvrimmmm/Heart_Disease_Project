{
  "cells": [
    {
      "cell_type": "markdown",
      "metadata": {},
      "source": [
        "# Preprocessing + EDA\n"
      ]
    },
    {
      "cell_type": "code",
      "execution_count": null,
      "metadata": {},
      "outputs": [],
      "source": [
        "import pandas as pd\nimport numpy as np\nimport matplotlib.pyplot as plt\nimport seaborn as sns\nfrom ucimlrepo import fetch_ucirepo\nfrom sklearn.preprocessing import StandardScaler\n\nheart_disease = fetch_ucirepo(id=45)\nX = heart_disease.data.features\ny = heart_disease.data.targets\ndf = pd.concat([X, y], axis=1)\n\nprint(\"Shape:\", df.shape)\nprint(df.head())\nprint(df.info())\nprint(df.describe())\nprint(df.isna().sum())\n\nfor col in df.columns:\n    if df[col].dtype != 'object':\n        df[col] = df[col].fillna(df[col].median())\n    else:\n        df[col] = df[col].fillna(df[col].mode()[0])\n\ndf = pd.get_dummies(df, drop_first=True)\n\nscaler = StandardScaler()\nfeatures = df.drop(columns=['target'])\nscaled = scaler.fit_transform(features)\ndf_scaled = pd.DataFrame(scaled, columns=features.columns)\ndf_scaled['target'] = df['target']\n\ndf_scaled.hist(figsize=(15, 12))\nplt.suptitle(\"Feature Distributions\", fontsize=16)\nplt.show()\n\nplt.figure(figsize=(12, 8))\nsns.heatmap(df_scaled.corr(), cmap=\"coolwarm\", annot=False)\nplt.title(\"Correlation Heatmap\")\nplt.show()\n\nfor col in features.columns[:6]:\n    plt.figure(figsize=(6,4))\n    sns.boxplot(x='target', y=col, data=df_scaled)\n    plt.title(f\"{col} vs Target\")\n    plt.show()\n\ndf_scaled.to_csv(\"data/processed/heart_processed.csv\", index=False)\nprint(\"Processed dataset saved to data/processed/heart_processed.csv\")\n\n"
      ]
    }
  ],
  "metadata": {
    "kernelspec": {
      "name": "python3",
      "display_name": "Python 3"
    },
    "language_info": {
      "name": "python"
    }
  },
  "nbformat": 4,
  "nbformat_minor": 5
}