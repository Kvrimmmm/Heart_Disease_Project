{
  "cells": [
    {
      "cell_type": "markdown",
      "metadata": {},
      "source": [
        "# PCA Analysis\n"
      ]
    },
    {
      "cell_type": "code",
      "execution_count": null,
      "metadata": {},
      "outputs": [],
      "source": [
        "import pandas as pd\nimport matplotlib.pyplot as plt\nfrom sklearn.decomposition import PCA\nfrom sklearn.preprocessing import StandardScaler\n\ndf = pd.read_csv(\"data/processed/heart_processed.csv\")\nX = df.drop(columns=['target'])\ny = df['target']\n\nscaler = StandardScaler()\nXs = scaler.fit_transform(X)\n\npca = PCA(n_components=min(Xs.shape[1], Xs.shape[0]))\nX_pca = pca.fit_transform(Xs)\n\nexplained = pca.explained_variance_ratio_\ncum_explained = explained.cumsum()\n\nplt.figure(figsize=(8,5))\nplt.plot(range(1, len(explained)+1), cum_explained, marker='o')\nplt.xlabel(\"Number of Components\")\nplt.ylabel(\"Cumulative Explained Variance\")\nplt.grid(True)\nplt.show()\n\nimport numpy as np\nn_comp = np.argmax(cum_explained >= 0.95) + 1 if (cum_explained < 0.95).any() else len(explained)\nprint(\"Suggested components to retain (>=95%):\", n_comp)\n\npca_df = pd.DataFrame(X_pca[:, :n_comp], columns=[f\"PC{i+1}\" for i in range(n_comp)])\npca_df['target'] = y.values\npca_df.to_csv(\"data/processed/heart_pca.csv\", index=False)\nprint(\"PCA transformed data saved to data/processed/heart_pca.csv\")\n\n"
      ]
    }
  ],
  "metadata": {
    "kernelspec": {
      "name": "python3",
      "display_name": "Python 3"
    },
    "language_info": {
      "name": "python"
    }
  },
  "nbformat": 4,
  "nbformat_minor": 5
}