{
  "cells": [
    {
      "cell_type": "markdown",
      "metadata": {},
      "source": [
        "# Feature Selection\n"
      ]
    },
    {
      "cell_type": "code",
      "execution_count": null,
      "metadata": {},
      "outputs": [],
      "source": [
        "import pandas as pd\nfrom sklearn.ensemble import RandomForestClassifier\nfrom sklearn.feature_selection import SelectKBest, chi2, RFE\nfrom sklearn.model_selection import train_test_split\n\ndf = pd.read_csv(\"data/processed/heart_processed.csv\")\nX = df.drop(columns=['target'])\ny = df['target']\n\nX_train, X_test, y_train, y_test = train_test_split(X, y, test_size=0.2, random_state=42, stratify=y)\n\nrf = RandomForestClassifier(n_estimators=100, random_state=42)\nrf.fit(X_train, y_train)\nimportances = rf.feature_importances_\nfeat_importance = sorted(zip(X.columns, importances), key=lambda x: x[1], reverse=True)\nprint(feat_importance[:15])\n\nkbest = SelectKBest(score_func=chi2, k=min(10, X.shape[1]))\nkbest.fit(X_train.abs(), y_train)\nkbest_feats = X.columns[kbest.get_support()]\nprint(\"Chi2 selected:\", list(kbest_feats))\n\nrfe = RFE(estimator=RandomForestClassifier(n_estimators=100, random_state=42), n_features_to_select=min(10, X.shape[1]))\nrfe.fit(X_train, y_train)\nrfe_feats = X.columns[rfe.support_]\nprint(\"RFE selected:\", list(rfe_feats))\n\n"
      ]
    }
  ],
  "metadata": {
    "kernelspec": {
      "name": "python3",
      "display_name": "Python 3"
    },
    "language_info": {
      "name": "python"
    }
  },
  "nbformat": 4,
  "nbformat_minor": 5
}