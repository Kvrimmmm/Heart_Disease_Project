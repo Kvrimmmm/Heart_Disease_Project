{
  "cells": [
    {
      "cell_type": "markdown",
      "metadata": {},
      "source": [
        "# Supervised Learning\n"
      ]
    },
    {
      "cell_type": "code",
      "execution_count": null,
      "metadata": {},
      "outputs": [],
      "source": [
        "import pandas as pd\nfrom sklearn.model_selection import train_test_split, cross_val_score\nfrom sklearn.linear_model import LogisticRegression\nfrom sklearn.tree import DecisionTreeClassifier\nfrom sklearn.ensemble import RandomForestClassifier\nfrom sklearn.svm import SVC\nfrom sklearn.metrics import accuracy_score, precision_score, recall_score, f1_score, roc_auc_score, roc_curve\nimport matplotlib.pyplot as plt\nimport joblib\n\ndf = pd.read_csv(\"data/processed/heart_processed.csv\")\nX = df.drop(columns=['target'])\ny = df['target']\n\nX_train, X_test, y_train, y_test = train_test_split(X, y, test_size=0.2, random_state=42, stratify=y)\n\nmodels = {\n    'logreg': LogisticRegression(max_iter=1000),\n    'tree': DecisionTreeClassifier(random_state=42),\n    'rf': RandomForestClassifier(n_estimators=100, random_state=42),\n    'svm': SVC(probability=True, random_state=42)\n}\n\nresults = {}\nfor name, model in models.items():\n    model.fit(X_train, y_train)\n    preds = model.predict(X_test)\n    probs = model.predict_proba(X_test)[:,1] if hasattr(model, \"predict_proba\") else model.decision_function(X_test)\n    results[name] = {\n        'accuracy': accuracy_score(y_test, preds),\n        'precision': precision_score(y_test, preds, zero_division=0),\n        'recall': recall_score(y_test, preds, zero_division=0),\n        'f1': f1_score(y_test, preds, zero_division=0),\n        'roc_auc': roc_auc_score(y_test, probs)\n    }\n\nprint(results)\n\nbest_name = max(results, key=lambda k: results[k]['roc_auc'])\nbest_model = models[best_name]\njoblib.dump(best_model, \"models/final_model.pkl\")\nprint(\"Saved best model:\", best_name)\n\n"
      ]
    }
  ],
  "metadata": {
    "kernelspec": {
      "name": "python3",
      "display_name": "Python 3"
    },
    "language_info": {
      "name": "python"
    }
  },
  "nbformat": 4,
  "nbformat_minor": 5
}