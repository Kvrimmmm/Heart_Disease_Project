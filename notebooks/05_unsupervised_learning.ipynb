{
  "cells": [
    {
      "cell_type": "markdown",
      "metadata": {},
      "source": [
        "# Unsupervised Learning\n"
      ]
    },
    {
      "cell_type": "code",
      "execution_count": null,
      "metadata": {},
      "outputs": [],
      "source": [
        "import pandas as pd\nfrom sklearn.cluster import KMeans\nfrom scipy.cluster.hierarchy import dendrogram, linkage\nimport matplotlib.pyplot as plt\nfrom sklearn.preprocessing import StandardScaler\n\ndf = pd.read_csv(\"data/processed/heart_processed.csv\")\nX = df.drop(columns=['target'])\ny = df['target']\n\nscaler = StandardScaler()\nXs = scaler.fit_transform(X)\n\ninertia = []\nfor k in range(1, 8):\n    km = KMeans(n_clusters=k, random_state=42)\n    km.fit(Xs)\n    inertia.append(km.inertia_)\n\nplt.figure(figsize=(6,4))\nplt.plot(range(1,8), inertia, marker='o')\nplt.xlabel(\"k\")\nplt.ylabel(\"Inertia\")\nplt.show()\n\nlinked = linkage(Xs, method='ward')\nplt.figure(figsize=(10, 7))\ndendrogram(linked, truncate_mode='level', p=5)\nplt.show()\n\n"
      ]
    }
  ],
  "metadata": {
    "kernelspec": {
      "name": "python3",
      "display_name": "Python 3"
    },
    "language_info": {
      "name": "python"
    }
  },
  "nbformat": 4,
  "nbformat_minor": 5
}